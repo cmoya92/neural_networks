{
  "nbformat": 4,
  "nbformat_minor": 0,
  "metadata": {
    "colab": {
      "name": "Classifying Movie Reviews.ipynb",
      "version": "0.3.2",
      "provenance": [],
      "collapsed_sections": [],
      "include_colab_link": true
    },
    "kernelspec": {
      "name": "python3",
      "display_name": "Python 3"
    }
  },
  "cells": [
    {
      "cell_type": "markdown",
      "metadata": {
        "id": "view-in-github",
        "colab_type": "text"
      },
      "source": [
        "<a href=\"https://colab.research.google.com/github/cmoya92/neural_networks/blob/master/Classifying_Movie_Reviews.ipynb\" target=\"_parent\"><img src=\"https://colab.research.google.com/assets/colab-badge.svg\" alt=\"Open In Colab\"/></a>"
      ]
    },
    {
      "cell_type": "markdown",
      "metadata": {
        "id": "zrwobv5ixV0h",
        "colab_type": "text"
      },
      "source": [
        "# CLASSIFYING MOVIE REVIEWS"
      ]
    },
    {
      "cell_type": "markdown",
      "metadata": {
        "id": "ZMAvu30L0RDj",
        "colab_type": "text"
      },
      "source": [
        "### 1.Loading DataSet"
      ]
    },
    {
      "cell_type": "code",
      "metadata": {
        "id": "M-nYrOnqyRq3",
        "colab_type": "code",
        "outputId": "d1dc2c78-e23d-41e3-db51-524e973c2990",
        "colab": {
          "base_uri": "https://localhost:8080/",
          "height": 34
        }
      },
      "source": [
        "!pip install numpy==1.16.1\n",
        "import numpy as np"
      ],
      "execution_count": 0,
      "outputs": [
        {
          "output_type": "stream",
          "text": [
            "Requirement already satisfied: numpy==1.16.1 in /usr/local/lib/python3.6/dist-packages (1.16.1)\n"
          ],
          "name": "stdout"
        }
      ]
    },
    {
      "cell_type": "code",
      "metadata": {
        "id": "1G1Zi7WExNWx",
        "colab_type": "code",
        "colab": {}
      },
      "source": [
        "#Loading IMDB Dataset\n",
        "from keras.datasets import imdb\n",
        "\n",
        "(X_train,y_train), (X_test,y_test) = imdb.load_data(num_words=10000)"
      ],
      "execution_count": 0,
      "outputs": []
    },
    {
      "cell_type": "code",
      "metadata": {
        "id": "yU7p4ylfx90w",
        "colab_type": "code",
        "outputId": "dfdacb5e-35cc-447f-cdd6-0839c06f7370",
        "colab": {
          "base_uri": "https://localhost:8080/",
          "height": 34
        }
      },
      "source": [
        "type(X_train)\n",
        "max([max(sequence) for sequence in X_train]) # We restricted to the top 10000 words"
      ],
      "execution_count": 0,
      "outputs": [
        {
          "output_type": "execute_result",
          "data": {
            "text/plain": [
              "9999"
            ]
          },
          "metadata": {
            "tags": []
          },
          "execution_count": 28
        }
      ]
    },
    {
      "cell_type": "code",
      "metadata": {
        "id": "sjs5EwUuzO4n",
        "colab_type": "code",
        "outputId": "940bf806-8dfc-4952-dcca-797e22a070f0",
        "colab": {
          "base_uri": "https://localhost:8080/",
          "height": 54
        }
      },
      "source": [
        "# Get the comments (Reverse)\n",
        "word_index= imdb.get_word_index()\n",
        "reverse_word_index = dict([(value,key) for (key, value) in word_index.items()])\n",
        "decoded_review= ' '.join(reverse_word_index.get(i-3,'?') for i in X_train[0])\n",
        "decoded_review"
      ],
      "execution_count": 0,
      "outputs": [
        {
          "output_type": "execute_result",
          "data": {
            "text/plain": [
              "\"? this film was just brilliant casting location scenery story direction everyone's really suited the part they played and you could just imagine being there robert ? is an amazing actor and now the same being director ? father came from the same scottish island as myself so i loved the fact there was a real connection with this film the witty remarks throughout the film were great it was just brilliant so much that i bought the film as soon as it was released for ? and would recommend it to everyone to watch and the fly fishing was amazing really cried at the end it was so sad and you know what they say if you cry at a film it must have been good and this definitely was also ? to the two little boy's that played the ? of norman and paul they were just brilliant children are often left out of the ? list i think because the stars that play them all grown up are such a big profile for the whole film but these children are amazing and should be praised for what they have done don't you think the whole story was so lovely because it was true and was someone's life after all that was shared with us all\""
            ]
          },
          "metadata": {
            "tags": []
          },
          "execution_count": 29
        }
      ]
    },
    {
      "cell_type": "code",
      "metadata": {
        "id": "EgNePjRizucB",
        "colab_type": "code",
        "outputId": "7a16d0b8-7fd5-44d3-82c7-63dad3c4a12c",
        "colab": {
          "base_uri": "https://localhost:8080/",
          "height": 34
        }
      },
      "source": [
        "word_index[\"fawn\"]"
      ],
      "execution_count": 0,
      "outputs": [
        {
          "output_type": "execute_result",
          "data": {
            "text/plain": [
              "34701"
            ]
          },
          "metadata": {
            "tags": []
          },
          "execution_count": 30
        }
      ]
    },
    {
      "cell_type": "markdown",
      "metadata": {
        "id": "HBdEaUM90UxG",
        "colab_type": "text"
      },
      "source": [
        "### 2. Preparing the data (Turn lists into tensors)"
      ]
    },
    {
      "cell_type": "code",
      "metadata": {
        "id": "uieqYRHFzybq",
        "colab_type": "code",
        "colab": {}
      },
      "source": [
        "import numpy as np\n",
        "\n",
        "def vectorize_sequences(sequences, dimension=10000):\n",
        "  results = np.zeros ((len(sequences), dimension)) # creates an all zero matriz of shape of (len(sequences)), dimension. \n",
        "  for i, sequence in enumerate(sequences):\n",
        "    results[i,sequence]=1. # Sets specific indices of result i to 1s.\n",
        "  return results\n"
      ],
      "execution_count": 0,
      "outputs": []
    },
    {
      "cell_type": "code",
      "metadata": {
        "id": "uozGOSs91ZBx",
        "colab_type": "code",
        "outputId": "696e2548-d7b9-47b6-f99f-b248b2c73155",
        "colab": {
          "base_uri": "https://localhost:8080/",
          "height": 51
        }
      },
      "source": [
        "print(len(vectorize_sequences(X_train)[0]))\n",
        "print(len(X_train[0]))"
      ],
      "execution_count": 0,
      "outputs": [
        {
          "output_type": "stream",
          "text": [
            "10000\n",
            "218\n"
          ],
          "name": "stdout"
        }
      ]
    },
    {
      "cell_type": "code",
      "metadata": {
        "id": "iz-9dk422Kpf",
        "colab_type": "code",
        "colab": {}
      },
      "source": [
        "X_train_vectorized = vectorize_sequences(X_train)\n",
        "X_test_vectorized = vectorize_sequences(X_test)"
      ],
      "execution_count": 0,
      "outputs": []
    },
    {
      "cell_type": "code",
      "metadata": {
        "id": "Q8EWTQlm3F2X",
        "colab_type": "code",
        "colab": {}
      },
      "source": [
        "y_train_vectorized= np.asarray(y_train).astype('float32')\n",
        "y_test_vectorized = np.asarray(y_test).astype('float32')"
      ],
      "execution_count": 0,
      "outputs": []
    },
    {
      "cell_type": "code",
      "metadata": {
        "id": "KtTE1l3K4AMa",
        "colab_type": "code",
        "outputId": "24cc1b18-67dd-4f9e-89b5-58b11f8087e0",
        "colab": {
          "base_uri": "https://localhost:8080/",
          "height": 51
        }
      },
      "source": [
        "print(type(y_train))\n",
        "print(type(y_train_vectorized))"
      ],
      "execution_count": 0,
      "outputs": [
        {
          "output_type": "stream",
          "text": [
            "<class 'numpy.ndarray'>\n",
            "<class 'numpy.ndarray'>\n"
          ],
          "name": "stdout"
        }
      ]
    },
    {
      "cell_type": "code",
      "metadata": {
        "id": "HGi18M5y7cPz",
        "colab_type": "code",
        "colab": {}
      },
      "source": [
        "x_val = X_train_vectorized[:10000] # Split validation \n",
        "partial_x_train = X_train_vectorized[10000:]\n",
        "\n",
        "y_val = y_train_vectorized[:10000]\n",
        "partial_y_train = y_train_vectorized[10000:]"
      ],
      "execution_count": 0,
      "outputs": []
    },
    {
      "cell_type": "code",
      "metadata": {
        "id": "wCkryXtQ8IgH",
        "colab_type": "code",
        "outputId": "0f4d3698-0ce8-4c9b-f287-68388de4802a",
        "colab": {
          "base_uri": "https://localhost:8080/",
          "height": 51
        }
      },
      "source": [
        "print(len(x_val))\n",
        "print(len(partial_x_train))"
      ],
      "execution_count": 0,
      "outputs": [
        {
          "output_type": "stream",
          "text": [
            "10000\n",
            "15000\n"
          ],
          "name": "stdout"
        }
      ]
    },
    {
      "cell_type": "markdown",
      "metadata": {
        "id": "st9DbUipCvTD",
        "colab_type": "text"
      },
      "source": [
        "### 2.2 Preprocessing V2"
      ]
    },
    {
      "cell_type": "code",
      "metadata": {
        "id": "DkGOzabtC9PT",
        "colab_type": "code",
        "outputId": "a7ca4883-aa6d-4aed-afff-a651bb21d4be",
        "colab": {
          "base_uri": "https://localhost:8080/",
          "height": 269
        }
      },
      "source": [
        "import matplotlib.pyplot as plt\n",
        "%matplotlib inline\n",
        "\n",
        "plt.boxplot([len(text) for text in X_train], whis=[15, 85], showfliers=False)\n",
        "plt.ylabel(\"#Words in a text\")\n",
        "plt.show()"
      ],
      "execution_count": 0,
      "outputs": [
        {
          "output_type": "display_data",
          "data": {
            "image/png": "[encoded data removed]",
            "text/plain": [
              "<Figure size 432x288 with 1 Axes>"
            ]
          },
          "metadata": {
            "tags": []
          }
        }
      ]
    },
    {
      "cell_type": "code",
      "metadata": {
        "id": "FeDiLPwzDIe-",
        "colab_type": "code",
        "colab": {}
      },
      "source": [
        "from keras.preprocessing.sequence import pad_sequences \n",
        "from keras.utils import to_categorical\n",
        "  \n",
        "maxsequence = 400\n",
        "X_train_s = pad_sequences(X_train, maxlen=maxsequence)\n",
        "X_test_s = pad_sequences(X_test, maxlen=maxsequence)\n",
        "\n"
      ],
      "execution_count": 0,
      "outputs": []
    },
    {
      "cell_type": "code",
      "metadata": {
        "id": "dSFhYsu0DoOa",
        "colab_type": "code",
        "colab": {}
      },
      "source": [
        "x_val2 = X_train_s[:10000] # Split validation \n",
        "partial_x_train2 = X_train_s[10000:]\n",
        "\n",
        "y_val2 = y_train[:10000]\n",
        "partial_y_train2 = y_train[10000:]"
      ],
      "execution_count": 0,
      "outputs": []
    },
    {
      "cell_type": "code",
      "metadata": {
        "id": "ZWsjy8HiDhY0",
        "colab_type": "code",
        "outputId": "218bf195-e4a8-4353-d7cb-292577284fb5",
        "colab": {
          "base_uri": "https://localhost:8080/",
          "height": 1003
        }
      },
      "source": [
        "from keras import models\n",
        "from keras import layers\n",
        "from keras import metrics\n",
        "from keras import optimizers\n",
        "\n",
        "model = models.Sequential()\n",
        "model.add(layers.Embedding(10000, 64, input_length=maxsequence))#We will transform each index (word) into an embedding vector of 64 elements, which will be learned by the network.\n",
        "model.add(layers.GlobalAveragePooling1D()) #After the embedding we will add the averaging layer to obtain a single vector of values representing the whole document.\n",
        "model.add(layers.Dense(32, activation= \"relu\"))\n",
        "model.add(layers.Dense(16, activation= \"relu\"))\n",
        "model.add(layers.Dense(1, activation = \"sigmoid\"))\n",
        "\n",
        "model.compile(optimizer = optimizers.rmsprop(lr=0.0005), loss= \"binary_crossentropy\", metrics= [\"acc\"])\n",
        "\n",
        "model.summary()\n",
        "\n",
        "history= model.fit(partial_x_train2,partial_y_train2,epochs = 20, batch_size= 512, validation_data=(x_val2,y_val2))\n"
      ],
      "execution_count": 0,
      "outputs": [
        {
          "output_type": "stream",
          "text": [
            "_________________________________________________________________\n",
            "Layer (type)                 Output Shape              Param #   \n",
            "=================================================================\n",
            "embedding_8 (Embedding)      (None, 400, 64)           640000    \n",
            "_________________________________________________________________\n",
            "global_average_pooling1d_6 ( (None, 64)                0         \n",
            "_________________________________________________________________\n",
            "dense_25 (Dense)             (None, 32)                2080      \n",
            "_________________________________________________________________\n",
            "dense_26 (Dense)             (None, 16)                528       \n",
            "_________________________________________________________________\n",
            "dense_27 (Dense)             (None, 1)                 17        \n",
            "=================================================================\n",
            "Total params: 642,625\n",
            "Trainable params: 642,625\n",
            "Non-trainable params: 0\n",
            "_________________________________________________________________\n",
            "Train on 15000 samples, validate on 10000 samples\n",
            "Epoch 1/20\n",
            "15000/15000 [==============================] - 4s 272us/step - loss: 0.6915 - acc: 0.5543 - val_loss: 0.6887 - val_acc: 0.5786\n",
            "Epoch 2/20\n",
            "15000/15000 [==============================] - 3s 227us/step - loss: 0.6836 - acc: 0.6592 - val_loss: 0.6789 - val_acc: 0.6933\n",
            "Epoch 3/20\n",
            "15000/15000 [==============================] - 3s 228us/step - loss: 0.6702 - acc: 0.7600 - val_loss: 0.6632 - val_acc: 0.7743\n",
            "Epoch 4/20\n",
            "15000/15000 [==============================] - 3s 228us/step - loss: 0.6496 - acc: 0.7845 - val_loss: 0.6402 - val_acc: 0.7888\n",
            "Epoch 5/20\n",
            "15000/15000 [==============================] - 3s 228us/step - loss: 0.6211 - acc: 0.8093 - val_loss: 0.6116 - val_acc: 0.7772\n",
            "Epoch 6/20\n",
            "15000/15000 [==============================] - 3s 228us/step - loss: 0.5855 - acc: 0.8248 - val_loss: 0.5757 - val_acc: 0.8110\n",
            "Epoch 7/20\n",
            "15000/15000 [==============================] - 3s 230us/step - loss: 0.5440 - acc: 0.8404 - val_loss: 0.5358 - val_acc: 0.8259\n",
            "Epoch 8/20\n",
            "15000/15000 [==============================] - 3s 227us/step - loss: 0.4992 - acc: 0.8512 - val_loss: 0.4940 - val_acc: 0.8391\n",
            "Epoch 9/20\n",
            "15000/15000 [==============================] - 3s 227us/step - loss: 0.4555 - acc: 0.8639 - val_loss: 0.4573 - val_acc: 0.8462\n",
            "Epoch 10/20\n",
            "15000/15000 [==============================] - 3s 230us/step - loss: 0.4133 - acc: 0.8759 - val_loss: 0.4203 - val_acc: 0.8521\n",
            "Epoch 11/20\n",
            "15000/15000 [==============================] - 3s 227us/step - loss: 0.3751 - acc: 0.8823 - val_loss: 0.3886 - val_acc: 0.8594\n",
            "Epoch 12/20\n",
            "15000/15000 [==============================] - 3s 228us/step - loss: 0.3409 - acc: 0.8886 - val_loss: 0.3621 - val_acc: 0.8672\n",
            "Epoch 13/20\n",
            "15000/15000 [==============================] - 3s 230us/step - loss: 0.3122 - acc: 0.8947 - val_loss: 0.3447 - val_acc: 0.8682\n",
            "Epoch 14/20\n",
            "15000/15000 [==============================] - 3s 230us/step - loss: 0.2892 - acc: 0.8999 - val_loss: 0.3262 - val_acc: 0.8762\n",
            "Epoch 15/20\n",
            "15000/15000 [==============================] - 3s 229us/step - loss: 0.2695 - acc: 0.9079 - val_loss: 0.3150 - val_acc: 0.8772\n",
            "Epoch 16/20\n",
            "15000/15000 [==============================] - 3s 230us/step - loss: 0.2526 - acc: 0.9104 - val_loss: 0.3042 - val_acc: 0.8824\n",
            "Epoch 17/20\n",
            "15000/15000 [==============================] - 3s 229us/step - loss: 0.2367 - acc: 0.9153 - val_loss: 0.3152 - val_acc: 0.8652\n",
            "Epoch 18/20\n",
            "15000/15000 [==============================] - 3s 229us/step - loss: 0.2241 - acc: 0.9189 - val_loss: 0.2928 - val_acc: 0.8841\n",
            "Epoch 19/20\n",
            "15000/15000 [==============================] - 3s 230us/step - loss: 0.2117 - acc: 0.9244 - val_loss: 0.2869 - val_acc: 0.8869\n",
            "Epoch 20/20\n",
            "15000/15000 [==============================] - 3s 227us/step - loss: 0.2003 - acc: 0.9281 - val_loss: 0.2840 - val_acc: 0.8893\n"
          ],
          "name": "stdout"
        }
      ]
    },
    {
      "cell_type": "code",
      "metadata": {
        "id": "La4Q01ifDhpt",
        "colab_type": "code",
        "outputId": "17a9b8e7-c446-4961-b71a-da2ba7342406",
        "colab": {
          "base_uri": "https://localhost:8080/",
          "height": 51
        }
      },
      "source": [
        "results = model.evaluate(X_test_s,y_test)\n",
        "results"
      ],
      "execution_count": 0,
      "outputs": [
        {
          "output_type": "stream",
          "text": [
            "25000/25000 [==============================] - 1s 51us/step\n"
          ],
          "name": "stdout"
        },
        {
          "output_type": "execute_result",
          "data": {
            "text/plain": [
              "[0.30012811268806455, 0.87964]"
            ]
          },
          "metadata": {
            "tags": []
          },
          "execution_count": 42
        }
      ]
    },
    {
      "cell_type": "markdown",
      "metadata": {
        "id": "f4jC6uf6Crzo",
        "colab_type": "text"
      },
      "source": [
        "### 3. Model"
      ]
    },
    {
      "cell_type": "code",
      "metadata": {
        "id": "neBnB1184B2S",
        "colab_type": "code",
        "outputId": "bf47c3e5-2bab-46ef-f085-e6ae22aa0101",
        "colab": {
          "base_uri": "https://localhost:8080/",
          "height": 391
        }
      },
      "source": [
        "from keras import models\n",
        "from keras import layers\n",
        "from keras import metrics\n",
        "from keras import optimizers\n",
        "\n",
        "model = models.Sequential()\n",
        "model.add(layers.Dense(16, activation= \"relu\", input_shape= (10000,)))\n",
        "model.add(layers.Dense(16, activation= \"relu\"))\n",
        "model.add(layers.Dense(1, activation = \"sigmoid\"))\n",
        "\n",
        "model.compile(optimizer = optimizers.rmsprop(lr=0.001), loss= \"binary_crossentropy\", metrics= [\"acc\"])\n",
        "\n",
        "model.summary()\n",
        "\n",
        "history= model.fit(partial_x_train,partial_y_train,epochs = 4, batch_size= 512, validation_data=(x_val,y_val))\n"
      ],
      "execution_count": 0,
      "outputs": [
        {
          "output_type": "stream",
          "text": [
            "_________________________________________________________________\n",
            "Layer (type)                 Output Shape              Param #   \n",
            "=================================================================\n",
            "dense_28 (Dense)             (None, 16)                160016    \n",
            "_________________________________________________________________\n",
            "dense_29 (Dense)             (None, 16)                272       \n",
            "_________________________________________________________________\n",
            "dense_30 (Dense)             (None, 1)                 17        \n",
            "=================================================================\n",
            "Total params: 160,305\n",
            "Trainable params: 160,305\n",
            "Non-trainable params: 0\n",
            "_________________________________________________________________\n",
            "Train on 15000 samples, validate on 10000 samples\n",
            "Epoch 1/4\n",
            "15000/15000 [==============================] - 4s 270us/step - loss: 0.5341 - acc: 0.7898 - val_loss: 0.4086 - val_acc: 0.8690\n",
            "Epoch 2/4\n",
            "15000/15000 [==============================] - 3s 217us/step - loss: 0.3275 - acc: 0.8989 - val_loss: 0.3165 - val_acc: 0.8851\n",
            "Epoch 3/4\n",
            "15000/15000 [==============================] - 3s 217us/step - loss: 0.2371 - acc: 0.9239 - val_loss: 0.2832 - val_acc: 0.8889\n",
            "Epoch 4/4\n",
            "15000/15000 [==============================] - 3s 216us/step - loss: 0.1877 - acc: 0.9386 - val_loss: 0.2864 - val_acc: 0.8842\n"
          ],
          "name": "stdout"
        }
      ]
    },
    {
      "cell_type": "code",
      "metadata": {
        "id": "DXrZJLX44JGg",
        "colab_type": "code",
        "outputId": "d2d6c224-7f1e-4c88-da7b-1caaa5cfbdd5",
        "colab": {
          "base_uri": "https://localhost:8080/",
          "height": 295
        }
      },
      "source": [
        "import matplotlib.pyplot as plt\n",
        "\n",
        "history_dict = history.history\n",
        "loss_values= history_dict[\"loss\"]\n",
        "val_loss_values = history_dict[\"val_loss\"]\n",
        "\n",
        "epochs = range(1, len(loss_values)+1)\n",
        "\n",
        "plt.plot(epochs,loss_values,\"b\", color = \"red\", label = \"Training loss\")\n",
        "plt.plot(epochs,val_loss_values,\"b\",label = \"Validation loss\")\n",
        "plt.title(\"Trainin and validation loss\")\n",
        "plt.xlabel(\"Epochs\")\n",
        "plt.ylabel(\"Loss\")\n",
        "plt.legend()\n",
        "plt.show()\n"
      ],
      "execution_count": 0,
      "outputs": [
        {
          "output_type": "display_data",
          "data": {
            "image/png": "[encoded data removed]",
            "text/plain": [
              "<Figure size 432x288 with 1 Axes>"
            ]
          },
          "metadata": {
            "tags": []
          }
        }
      ]
    },
    {
      "cell_type": "code",
      "metadata": {
        "id": "47SV0QZp85fs",
        "colab_type": "code",
        "outputId": "fb02b924-d14a-469c-931c-ba8cac20a4fd",
        "colab": {
          "base_uri": "https://localhost:8080/",
          "height": 295
        }
      },
      "source": [
        "acc_values= history_dict[\"acc\"]\n",
        "val_acc_values = history_dict[\"val_acc\"]\n",
        "\n",
        "plt.plot(epochs,acc_values,\"b\", color = \"red\", label = \"Training acc\")\n",
        "plt.plot(epochs,val_acc_values,\"b\",label = \"Validation acc\")\n",
        "plt.title(\"Trainin and validation accuary\")\n",
        "plt.xlabel(\"Epochs\")\n",
        "plt.ylabel(\"acc\")\n",
        "plt.legend()\n",
        "plt.show()"
      ],
      "execution_count": 0,
      "outputs": [
        {
          "output_type": "display_data",
          "data": {
            "image/png": "[encoded data removed]",
            "text/plain": [
              "<Figure size 432x288 with 1 Axes>"
            ]
          },
          "metadata": {
            "tags": []
          }
        }
      ]
    },
    {
      "cell_type": "code",
      "metadata": {
        "id": "9z6gTnVY9G1A",
        "colab_type": "code",
        "outputId": "887ecbb8-1443-4a74-c0b1-a572645a5a88",
        "colab": {
          "base_uri": "https://localhost:8080/",
          "height": 51
        }
      },
      "source": [
        "results = model.evaluate(X_test_vectorized,y_test_vectorized)\n",
        "results"
      ],
      "execution_count": 0,
      "outputs": [
        {
          "output_type": "stream",
          "text": [
            "25000/25000 [==============================] - 2s 76us/step\n"
          ],
          "name": "stdout"
        },
        {
          "output_type": "execute_result",
          "data": {
            "text/plain": [
              "[0.30144216868400575, 0.87708]"
            ]
          },
          "metadata": {
            "tags": []
          },
          "execution_count": 46
        }
      ]
    },
    {
      "cell_type": "code",
      "metadata": {
        "id": "QGH798xSCTDR",
        "colab_type": "code",
        "outputId": "e1b787b8-39e0-4c2b-9192-d777330085b0",
        "colab": {
          "base_uri": "https://localhost:8080/",
          "height": 136
        }
      },
      "source": [
        "model.predict(X_test_vectorized)"
      ],
      "execution_count": 0,
      "outputs": [
        {
          "output_type": "execute_result",
          "data": {
            "text/plain": [
              "array([[0.33915335],\n",
              "       [0.9996277 ],\n",
              "       [0.93349445],\n",
              "       ...,\n",
              "       [0.14614403],\n",
              "       [0.19091243],\n",
              "       [0.6459974 ]], dtype=float32)"
            ]
          },
          "metadata": {
            "tags": []
          },
          "execution_count": 47
        }
      ]
    },
    {
      "cell_type": "code",
      "metadata": {
        "id": "mQwSnMuTVIH_",
        "colab_type": "code",
        "colab": {}
      },
      "source": [
        ""
      ],
      "execution_count": 0,
      "outputs": []
    }
  ]
}