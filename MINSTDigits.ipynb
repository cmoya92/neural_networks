{
  "nbformat": 4,
  "nbformat_minor": 0,
  "metadata": {
    "colab": {
      "name": "MINSTDigits.ipynb",
      "version": "0.3.2",
      "provenance": []
    },
    "kernelspec": {
      "name": "python3",
      "display_name": "Python 3"
    },
    "accelerator": "GPU"
  },
  "cells": [
    {
      "cell_type": "code",
      "metadata": {
        "id": "RhveN7QeqMk7",
        "colab_type": "code",
        "colab": {}
      },
      "source": [
        "from keras.datasets import mnist"
      ],
      "execution_count": 0,
      "outputs": []
    },
    {
      "cell_type": "code",
      "metadata": {
        "id": "FWMJC632qRO3",
        "colab_type": "code",
        "colab": {}
      },
      "source": [
        "(train_images,train_labels),(test_images,test_labels)= mnist.load_data()"
      ],
      "execution_count": 0,
      "outputs": []
    },
    {
      "cell_type": "code",
      "metadata": {
        "id": "jQszPOImq-ap",
        "colab_type": "code",
        "outputId": "7a2ab791-28ef-45fe-f2e6-0062b06768b2",
        "colab": {
          "base_uri": "https://localhost:8080/",
          "height": 269
        }
      },
      "source": [
        "from matplotlib import pyplot as plt\n",
        "import numpy as np\n",
        "plt.imshow(train_images[4], cmap='gray')\n",
        "plt.show()"
      ],
      "execution_count": 0,
      "outputs": [
        {
          "output_type": "display_data",
          "data": {
            "image/png": "[encoded data removed]",
            "text/plain": [
              "<Figure size 432x288 with 1 Axes>"
            ]
          },
          "metadata": {
            "tags": []
          }
        }
      ]
    },
    {
      "cell_type": "code",
      "metadata": {
        "id": "AxYioNqJqmA-",
        "colab_type": "code",
        "outputId": "1e4094ae-d01e-4bd7-e5e8-893b50f20e45",
        "colab": {
          "base_uri": "https://localhost:8080/",
          "height": 1445
        }
      },
      "source": [
        "train_images[2]"
      ],
      "execution_count": 0,
      "outputs": [
        {
          "output_type": "execute_result",
          "data": {
            "text/plain": [
              "array([[  0,   0,   0,   0,   0,   0,   0,   0,   0,   0,   0,   0,   0,\n",
              "          0,   0,   0,   0,   0,   0,   0,   0,   0,   0,   0,   0,   0,\n",
              "          0,   0],\n",
              "       [  0,   0,   0,   0,   0,   0,   0,   0,   0,   0,   0,   0,   0,\n",
              "          0,   0,   0,   0,   0,   0,   0,   0,   0,   0,   0,   0,   0,\n",
              "          0,   0],\n",
              "       [  0,   0,   0,   0,   0,   0,   0,   0,   0,   0,   0,   0,   0,\n",
              "          0,   0,   0,   0,   0,   0,   0,   0,   0,   0,   0,   0,   0,\n",
              "          0,   0],\n",
              "       [  0,   0,   0,   0,   0,   0,   0,   0,   0,   0,   0,   0,   0,\n",
              "          0,   0,   0,   0,   0,   0,   0,   0,   0,   0,   0,   0,   0,\n",
              "          0,   0],\n",
              "       [  0,   0,   0,   0,   0,   0,   0,   0,   0,   0,   0,   0,   0,\n",
              "          0,   0,   0,   0,   0,   0,   0,   0,   0,   0,   0,   0,   0,\n",
              "          0,   0],\n",
              "       [  0,   0,   0,   0,   0,   0,   0,   0,   0,   0,   0,   0,   0,\n",
              "          0,   0,   0,   0,   0,   0,   0,  67, 232,  39,   0,   0,   0,\n",
              "          0,   0],\n",
              "       [  0,   0,   0,   0,  62,  81,   0,   0,   0,   0,   0,   0,   0,\n",
              "          0,   0,   0,   0,   0,   0,   0, 120, 180,  39,   0,   0,   0,\n",
              "          0,   0],\n",
              "       [  0,   0,   0,   0, 126, 163,   0,   0,   0,   0,   0,   0,   0,\n",
              "          0,   0,   0,   0,   0,   0,   2, 153, 210,  40,   0,   0,   0,\n",
              "          0,   0],\n",
              "       [  0,   0,   0,   0, 220, 163,   0,   0,   0,   0,   0,   0,   0,\n",
              "          0,   0,   0,   0,   0,   0,  27, 254, 162,   0,   0,   0,   0,\n",
              "          0,   0],\n",
              "       [  0,   0,   0,   0, 222, 163,   0,   0,   0,   0,   0,   0,   0,\n",
              "          0,   0,   0,   0,   0,   0, 183, 254, 125,   0,   0,   0,   0,\n",
              "          0,   0],\n",
              "       [  0,   0,   0,  46, 245, 163,   0,   0,   0,   0,   0,   0,   0,\n",
              "          0,   0,   0,   0,   0,   0, 198, 254,  56,   0,   0,   0,   0,\n",
              "          0,   0],\n",
              "       [  0,   0,   0, 120, 254, 163,   0,   0,   0,   0,   0,   0,   0,\n",
              "          0,   0,   0,   0,   0,  23, 231, 254,  29,   0,   0,   0,   0,\n",
              "          0,   0],\n",
              "       [  0,   0,   0, 159, 254, 120,   0,   0,   0,   0,   0,   0,   0,\n",
              "          0,   0,   0,   0,   0, 163, 254, 216,  16,   0,   0,   0,   0,\n",
              "          0,   0],\n",
              "       [  0,   0,   0, 159, 254,  67,   0,   0,   0,   0,   0,   0,   0,\n",
              "          0,   0,  14,  86, 178, 248, 254,  91,   0,   0,   0,   0,   0,\n",
              "          0,   0],\n",
              "       [  0,   0,   0, 159, 254,  85,   0,   0,   0,  47,  49, 116, 144,\n",
              "        150, 241, 243, 234, 179, 241, 252,  40,   0,   0,   0,   0,   0,\n",
              "          0,   0],\n",
              "       [  0,   0,   0, 150, 253, 237, 207, 207, 207, 253, 254, 250, 240,\n",
              "        198, 143,  91,  28,   5, 233, 250,   0,   0,   0,   0,   0,   0,\n",
              "          0,   0],\n",
              "       [  0,   0,   0,   0, 119, 177, 177, 177, 177, 177,  98,  56,   0,\n",
              "          0,   0,   0,   0, 102, 254, 220,   0,   0,   0,   0,   0,   0,\n",
              "          0,   0],\n",
              "       [  0,   0,   0,   0,   0,   0,   0,   0,   0,   0,   0,   0,   0,\n",
              "          0,   0,   0,   0, 169, 254, 137,   0,   0,   0,   0,   0,   0,\n",
              "          0,   0],\n",
              "       [  0,   0,   0,   0,   0,   0,   0,   0,   0,   0,   0,   0,   0,\n",
              "          0,   0,   0,   0, 169, 254,  57,   0,   0,   0,   0,   0,   0,\n",
              "          0,   0],\n",
              "       [  0,   0,   0,   0,   0,   0,   0,   0,   0,   0,   0,   0,   0,\n",
              "          0,   0,   0,   0, 169, 254,  57,   0,   0,   0,   0,   0,   0,\n",
              "          0,   0],\n",
              "       [  0,   0,   0,   0,   0,   0,   0,   0,   0,   0,   0,   0,   0,\n",
              "          0,   0,   0,   0, 169, 255,  94,   0,   0,   0,   0,   0,   0,\n",
              "          0,   0],\n",
              "       [  0,   0,   0,   0,   0,   0,   0,   0,   0,   0,   0,   0,   0,\n",
              "          0,   0,   0,   0, 169, 254,  96,   0,   0,   0,   0,   0,   0,\n",
              "          0,   0],\n",
              "       [  0,   0,   0,   0,   0,   0,   0,   0,   0,   0,   0,   0,   0,\n",
              "          0,   0,   0,   0, 169, 254, 153,   0,   0,   0,   0,   0,   0,\n",
              "          0,   0],\n",
              "       [  0,   0,   0,   0,   0,   0,   0,   0,   0,   0,   0,   0,   0,\n",
              "          0,   0,   0,   0, 169, 255, 153,   0,   0,   0,   0,   0,   0,\n",
              "          0,   0],\n",
              "       [  0,   0,   0,   0,   0,   0,   0,   0,   0,   0,   0,   0,   0,\n",
              "          0,   0,   0,   0,  96, 254, 153,   0,   0,   0,   0,   0,   0,\n",
              "          0,   0],\n",
              "       [  0,   0,   0,   0,   0,   0,   0,   0,   0,   0,   0,   0,   0,\n",
              "          0,   0,   0,   0,   0,   0,   0,   0,   0,   0,   0,   0,   0,\n",
              "          0,   0],\n",
              "       [  0,   0,   0,   0,   0,   0,   0,   0,   0,   0,   0,   0,   0,\n",
              "          0,   0,   0,   0,   0,   0,   0,   0,   0,   0,   0,   0,   0,\n",
              "          0,   0],\n",
              "       [  0,   0,   0,   0,   0,   0,   0,   0,   0,   0,   0,   0,   0,\n",
              "          0,   0,   0,   0,   0,   0,   0,   0,   0,   0,   0,   0,   0,\n",
              "          0,   0]], dtype=uint8)"
            ]
          },
          "metadata": {
            "tags": []
          },
          "execution_count": 34
        }
      ]
    },
    {
      "cell_type": "code",
      "metadata": {
        "id": "ZZYOAYp8qnYm",
        "colab_type": "code",
        "outputId": "f63a4401-89ad-40b4-d08a-2c90a03648b2",
        "colab": {
          "base_uri": "https://localhost:8080/",
          "height": 85
        }
      },
      "source": [
        "print(train_images.shape)\n",
        "print(test_images.shape)\n",
        "\n",
        "train_images= (train_images.reshape((60000,28*28))).astype(\"float32\") / 255\n",
        "test_images= (test_images.reshape((10000,28*28))).astype(\"float32\") / 255\n",
        "\n",
        "print(train_images.shape)\n",
        "print(test_images.shape)"
      ],
      "execution_count": 0,
      "outputs": [
        {
          "output_type": "stream",
          "text": [
            "(60000, 28, 28)\n",
            "(10000, 28, 28)\n",
            "(60000, 784)\n",
            "(10000, 784)\n"
          ],
          "name": "stdout"
        }
      ]
    },
    {
      "cell_type": "code",
      "metadata": {
        "id": "1fwIKhIAwf8-",
        "colab_type": "code",
        "outputId": "3e5ca44a-f2cd-4bb3-91db-62c354def42d",
        "colab": {
          "base_uri": "https://localhost:8080/",
          "height": 34
        }
      },
      "source": [
        "train_images.shape[1]"
      ],
      "execution_count": 0,
      "outputs": [
        {
          "output_type": "execute_result",
          "data": {
            "text/plain": [
              "784"
            ]
          },
          "metadata": {
            "tags": []
          },
          "execution_count": 36
        }
      ]
    },
    {
      "cell_type": "code",
      "metadata": {
        "id": "UVe3IoQawsZG",
        "colab_type": "code",
        "colab": {}
      },
      "source": [
        "from keras.utils import to_categorical\n",
        "\n",
        "train_labels= to_categorical(train_labels)\n",
        "test_labels= to_categorical(test_labels)"
      ],
      "execution_count": 0,
      "outputs": []
    },
    {
      "cell_type": "code",
      "metadata": {
        "id": "mkEbU9-krdYO",
        "colab_type": "code",
        "outputId": "59fc0e24-e543-4247-b0cd-710fab7bc342",
        "colab": {
          "base_uri": "https://localhost:8080/",
          "height": 561
        }
      },
      "source": [
        "from keras import models\n",
        "from keras.layers import Dense, Conv1D\n",
        "\n",
        "network = models.Sequential()\n",
        "network.add(Dense(512,activation=\"relu\", input_shape =(train_images.shape[1],)))\n",
        "network.add(Dense(10,activation=\"softmax\"))\n",
        "\n",
        "network.summary()\n",
        "\n",
        "network.compile(optimizer=\"adam\", loss= \"categorical_crossentropy\", metrics=[\"accuracy\"])\n",
        "\n",
        "history = network.fit(train_images,train_labels, epochs=10, batch_size = 128, validation_split=0.2)"
      ],
      "execution_count": 0,
      "outputs": [
        {
          "output_type": "stream",
          "text": [
            "_________________________________________________________________\n",
            "Layer (type)                 Output Shape              Param #   \n",
            "=================================================================\n",
            "dense_23 (Dense)             (None, 512)               401920    \n",
            "_________________________________________________________________\n",
            "dense_24 (Dense)             (None, 10)                5130      \n",
            "=================================================================\n",
            "Total params: 407,050\n",
            "Trainable params: 407,050\n",
            "Non-trainable params: 0\n",
            "_________________________________________________________________\n",
            "Train on 48000 samples, validate on 12000 samples\n",
            "Epoch 1/10\n",
            "48000/48000 [==============================] - 2s 42us/step - loss: 0.2978 - acc: 0.9142 - val_loss: 0.1606 - val_acc: 0.9540\n",
            "Epoch 2/10\n",
            "48000/48000 [==============================] - 1s 27us/step - loss: 0.1218 - acc: 0.9650 - val_loss: 0.1076 - val_acc: 0.9688\n",
            "Epoch 3/10\n",
            "48000/48000 [==============================] - 1s 28us/step - loss: 0.0812 - acc: 0.9759 - val_loss: 0.0925 - val_acc: 0.9718\n",
            "Epoch 4/10\n",
            "48000/48000 [==============================] - 1s 27us/step - loss: 0.0567 - acc: 0.9838 - val_loss: 0.0856 - val_acc: 0.9741\n",
            "Epoch 5/10\n",
            "48000/48000 [==============================] - 1s 27us/step - loss: 0.0418 - acc: 0.9885 - val_loss: 0.0878 - val_acc: 0.9744\n",
            "Epoch 6/10\n",
            "48000/48000 [==============================] - 1s 28us/step - loss: 0.0306 - acc: 0.9918 - val_loss: 0.0790 - val_acc: 0.9752\n",
            "Epoch 7/10\n",
            "48000/48000 [==============================] - 1s 28us/step - loss: 0.0235 - acc: 0.9937 - val_loss: 0.0815 - val_acc: 0.9748\n",
            "Epoch 8/10\n",
            "48000/48000 [==============================] - 1s 28us/step - loss: 0.0167 - acc: 0.9963 - val_loss: 0.0802 - val_acc: 0.9769\n",
            "Epoch 9/10\n",
            "48000/48000 [==============================] - 1s 27us/step - loss: 0.0135 - acc: 0.9970 - val_loss: 0.0784 - val_acc: 0.9772\n",
            "Epoch 10/10\n",
            "48000/48000 [==============================] - 1s 28us/step - loss: 0.0109 - acc: 0.9975 - val_loss: 0.0759 - val_acc: 0.9783\n"
          ],
          "name": "stdout"
        }
      ]
    },
    {
      "cell_type": "code",
      "metadata": {
        "id": "zOjwBf3Nr1pv",
        "colab_type": "code",
        "outputId": "6fa57818-75bc-44bb-c23d-a98f01e0161c",
        "colab": {
          "base_uri": "https://localhost:8080/",
          "height": 295
        }
      },
      "source": [
        "# summarize history for accuracy\n",
        "plt.plot(history.history['acc'])\n",
        "plt.plot(history.history['val_acc'])\n",
        "plt.title('model accuracy')\n",
        "plt.ylabel('accuracy')\n",
        "plt.xlabel('epoch')\n",
        "plt.legend(['train', 'test'], loc='upper left')\n",
        "plt.show()"
      ],
      "execution_count": 0,
      "outputs": [
        {
          "output_type": "display_data",
          "data": {
            "image/png": "[encoded data removed]",
            "text/plain": [
              "<Figure size 432x288 with 1 Axes>"
            ]
          },
          "metadata": {
            "tags": []
          }
        }
      ]
    },
    {
      "cell_type": "code",
      "metadata": {
        "id": "PxIFAxILydf5",
        "colab_type": "code",
        "outputId": "df4022d5-c1e1-45ee-897b-406acb72836c",
        "colab": {
          "base_uri": "https://localhost:8080/",
          "height": 295
        }
      },
      "source": [
        "# summarize history for loss\n",
        "plt.plot(history.history['loss'])\n",
        "plt.plot(history.history['val_loss'])\n",
        "plt.title('model loss')\n",
        "plt.ylabel('loss')\n",
        "plt.xlabel('epoch')\n",
        "plt.legend(['train', 'test'], loc='upper left')\n",
        "plt.show()"
      ],
      "execution_count": 0,
      "outputs": [
        {
          "output_type": "display_data",
          "data": {
            "image/png": "[encoded data removed]",
            "text/plain": [
              "<Figure size 432x288 with 1 Axes>"
            ]
          },
          "metadata": {
            "tags": []
          }
        }
      ]
    },
    {
      "cell_type": "markdown",
      "metadata": {
        "id": "WNRn_tWHELrl",
        "colab_type": "text"
      },
      "source": [
        "# Convolutional NN"
      ]
    },
    {
      "cell_type": "code",
      "metadata": {
        "id": "Q8mTm7noESMC",
        "colab_type": "code",
        "colab": {}
      },
      "source": [
        "from keras.datasets import mnist\n",
        "from keras.utils import np_utils\n",
        "\n",
        "(X_train, y_train), (X_test, y_test) = mnist.load_data()\n",
        "X_train_norm = X_train.astype('float32') / 255\n",
        "X_test_norm = X_test.astype('float32') / 255\n",
        "Y_train = np_utils.to_categorical(y_train, 10) # We have 10 classes to codify\n",
        "Y_test = np_utils.to_categorical(y_test, 10)"
      ],
      "execution_count": 0,
      "outputs": []
    },
    {
      "cell_type": "code",
      "metadata": {
        "id": "sE-BNFLFESO0",
        "colab_type": "code",
        "colab": {}
      },
      "source": [
        "traintensor = X_train_norm.reshape(60000, 28, 28, 1)\n",
        "testtensor = X_test_norm.reshape(10000, 28, 28, 1)"
      ],
      "execution_count": 0,
      "outputs": []
    },
    {
      "cell_type": "code",
      "metadata": {
        "id": "72-BQ7aUESSX",
        "colab_type": "code",
        "outputId": "1bf742f0-158f-4c8f-aecf-6185a1d49dd2",
        "colab": {
          "base_uri": "https://localhost:8080/",
          "height": 1122
        }
      },
      "source": [
        "from keras.models import Sequential\n",
        "from keras.layers.core import Dense\n",
        "from keras.layers.core import Activation\n",
        "from keras.layers.core import Dropout\n",
        "from keras.layers.convolutional import Convolution2D, MaxPooling2D\n",
        "from keras.layers.core import Flatten\n",
        "\n",
        "img_rows = 28\n",
        "img_cols = 28\n",
        "kernel_size = 3 # Size of the kernel for the convolution layers\n",
        "pool_size = 2 # Size of the pooling region for the pooling layers\n",
        "\n",
        "model = Sequential()\n",
        "\n",
        "model.add(Convolution2D(32, # Number convolution channels to generate (like 32 neuronas)\n",
        "                        (kernel_size, kernel_size), # Size of convolution kernels (3x3)\n",
        "                        padding='valid', # Strategy to deal with borders\n",
        "                        input_shape=(img_rows, img_cols, 1))) # Size = image rows x image columns x channels  (28x28x1)\n",
        "\n",
        "model.add(Activation('relu'))\n",
        "model.add(MaxPooling2D(pool_size=(pool_size, pool_size))) #2x2\n",
        "model.add(Dropout(0.25))\n",
        "model.add(Flatten())\n",
        "model.add(Dense(10))\n",
        "model.add(Activation('softmax'))\n",
        "\n",
        "model.summary()\n",
        "\n",
        "\n",
        "model.compile(loss='categorical_crossentropy', optimizer='adam', metrics=[\"accuracy\"])\n",
        "history=model.fit(\n",
        "    traintensor, # Training data\n",
        "    Y_train, # Labels of training data\n",
        "    batch_size=128, # Batch size for the optimizer algorithm\n",
        "    epochs=20, # Number of epochs to run the optimizer algorithm\n",
        "    verbose=2, # Level of verbosity of the log messages\n",
        "    validation_split=0.2\n",
        ")\n",
        "\n",
        "score = model.evaluate(testtensor, Y_test)\n",
        "print(\"Test loss\", score[0])\n",
        "print(\"Test accuracy\", score[1])"
      ],
      "execution_count": 0,
      "outputs": [
        {
          "output_type": "stream",
          "text": [
            "_________________________________________________________________\n",
            "Layer (type)                 Output Shape              Param #   \n",
            "=================================================================\n",
            "conv2d_5 (Conv2D)            (None, 26, 26, 32)        320       \n",
            "_________________________________________________________________\n",
            "activation_10 (Activation)   (None, 26, 26, 32)        0         \n",
            "_________________________________________________________________\n",
            "max_pooling2d_5 (MaxPooling2 (None, 13, 13, 32)        0         \n",
            "_________________________________________________________________\n",
            "dropout_5 (Dropout)          (None, 13, 13, 32)        0         \n",
            "_________________________________________________________________\n",
            "flatten_5 (Flatten)          (None, 5408)              0         \n",
            "_________________________________________________________________\n",
            "dense_37 (Dense)             (None, 10)                54090     \n",
            "_________________________________________________________________\n",
            "activation_11 (Activation)   (None, 10)                0         \n",
            "=================================================================\n",
            "Total params: 54,410\n",
            "Trainable params: 54,410\n",
            "Non-trainable params: 0\n",
            "_________________________________________________________________\n",
            "Train on 48000 samples, validate on 12000 samples\n",
            "Epoch 1/20\n",
            " - 3s - loss: 0.3966 - acc: 0.8946 - val_loss: 0.1620 - val_acc: 0.9567\n",
            "Epoch 2/20\n",
            " - 2s - loss: 0.1443 - acc: 0.9586 - val_loss: 0.1047 - val_acc: 0.9731\n",
            "Epoch 3/20\n",
            " - 2s - loss: 0.1009 - acc: 0.9706 - val_loss: 0.0821 - val_acc: 0.9781\n",
            "Epoch 4/20\n",
            " - 2s - loss: 0.0824 - acc: 0.9756 - val_loss: 0.0736 - val_acc: 0.9791\n",
            "Epoch 5/20\n",
            " - 2s - loss: 0.0737 - acc: 0.9773 - val_loss: 0.0685 - val_acc: 0.9799\n",
            "Epoch 6/20\n",
            " - 2s - loss: 0.0674 - acc: 0.9791 - val_loss: 0.0652 - val_acc: 0.9806\n",
            "Epoch 7/20\n",
            " - 2s - loss: 0.0611 - acc: 0.9819 - val_loss: 0.0633 - val_acc: 0.9818\n",
            "Epoch 8/20\n",
            " - 2s - loss: 0.0570 - acc: 0.9827 - val_loss: 0.0643 - val_acc: 0.9807\n",
            "Epoch 9/20\n",
            " - 2s - loss: 0.0555 - acc: 0.9831 - val_loss: 0.0586 - val_acc: 0.9822\n",
            "Epoch 10/20\n",
            " - 2s - loss: 0.0508 - acc: 0.9851 - val_loss: 0.0586 - val_acc: 0.9827\n",
            "Epoch 11/20\n",
            " - 2s - loss: 0.0485 - acc: 0.9852 - val_loss: 0.0619 - val_acc: 0.9812\n",
            "Epoch 12/20\n",
            " - 2s - loss: 0.0463 - acc: 0.9857 - val_loss: 0.0578 - val_acc: 0.9826\n",
            "Epoch 13/20\n",
            " - 2s - loss: 0.0433 - acc: 0.9863 - val_loss: 0.0575 - val_acc: 0.9827\n",
            "Epoch 14/20\n",
            " - 2s - loss: 0.0407 - acc: 0.9876 - val_loss: 0.0581 - val_acc: 0.9831\n",
            "Epoch 15/20\n",
            " - 2s - loss: 0.0398 - acc: 0.9875 - val_loss: 0.0560 - val_acc: 0.9840\n",
            "Epoch 16/20\n",
            " - 2s - loss: 0.0365 - acc: 0.9882 - val_loss: 0.0555 - val_acc: 0.9847\n",
            "Epoch 17/20\n",
            " - 2s - loss: 0.0353 - acc: 0.9886 - val_loss: 0.0567 - val_acc: 0.9837\n",
            "Epoch 18/20\n",
            " - 2s - loss: 0.0336 - acc: 0.9891 - val_loss: 0.0555 - val_acc: 0.9837\n",
            "Epoch 19/20\n",
            " - 2s - loss: 0.0313 - acc: 0.9900 - val_loss: 0.0564 - val_acc: 0.9825\n",
            "Epoch 20/20\n",
            " - 2s - loss: 0.0312 - acc: 0.9902 - val_loss: 0.0572 - val_acc: 0.9832\n",
            "10000/10000 [==============================] - 0s 47us/step\n",
            "Test loss 0.04988214779819827\n",
            "Test accuracy 0.9843\n"
          ],
          "name": "stdout"
        }
      ]
    },
    {
      "cell_type": "code",
      "metadata": {
        "id": "G0I63ech0_Nm",
        "colab_type": "code",
        "outputId": "5cfdb243-3708-403f-ca20-7ad47bc7ced7",
        "colab": {
          "base_uri": "https://localhost:8080/",
          "height": 295
        }
      },
      "source": [
        "# summarize history for accuracy\n",
        "plt.plot(history.history['acc'])\n",
        "plt.plot(history.history['val_acc'])\n",
        "plt.title('model accuracy')\n",
        "plt.ylabel('accuracy')\n",
        "plt.xlabel('epoch')\n",
        "plt.legend(['train', 'test'], loc='upper left')\n",
        "plt.show()"
      ],
      "execution_count": 0,
      "outputs": [
        {
          "output_type": "display_data",
          "data": {
            "image/png": "[encoded data removed]",
            "text/plain": [
              "<Figure size 432x288 with 1 Axes>"
            ]
          },
          "metadata": {
            "tags": []
          }
        }
      ]
    },
    {
      "cell_type": "code",
      "metadata": {
        "id": "GXJgGXCd2xxS",
        "colab_type": "code",
        "outputId": "cba58ac4-d059-4788-8227-c4fe19b9b010",
        "colab": {
          "base_uri": "https://localhost:8080/",
          "height": 295
        }
      },
      "source": [
        "# summarize history for loss\n",
        "plt.plot(history.history['loss'])\n",
        "plt.plot(history.history['val_loss'])\n",
        "plt.title('model loss')\n",
        "plt.ylabel('loss')\n",
        "plt.xlabel('epoch')\n",
        "plt.legend(['train', 'test'], loc='upper left')\n",
        "plt.show()"
      ],
      "execution_count": 0,
      "outputs": [
        {
          "output_type": "display_data",
          "data": {
            "image/png": "[encoded data removed]",
            "text/plain": [
              "<Figure size 432x288 with 1 Axes>"
            ]
          },
          "metadata": {
            "tags": []
          }
        }
      ]
    },
    {
      "cell_type": "code",
      "metadata": {
        "id": "wybRzoQ521Gm",
        "colab_type": "code",
        "colab": {}
      },
      "source": [
        ""
      ],
      "execution_count": 0,
      "outputs": []
    }
  ]
}