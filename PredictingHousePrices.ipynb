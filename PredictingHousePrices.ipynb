{
  "nbformat": 4,
  "nbformat_minor": 0,
  "metadata": {
    "colab": {
      "name": "PredictingHousePrices.ipynb",
      "version": "0.3.2",
      "provenance": [],
      "collapsed_sections": []
    },
    "kernelspec": {
      "name": "python3",
      "display_name": "Python 3"
    },
    "accelerator": "GPU"
  },
  "cells": [
    {
      "cell_type": "code",
      "metadata": {
        "id": "h-EiW4-jXudp",
        "colab_type": "code",
        "colab": {
          "base_uri": "https://localhost:8080/",
          "height": 68
        },
        "outputId": "97e8a1a0-a29a-465c-c02f-1ad0deda77d1"
      },
      "source": [
        "from keras.datasets import boston_housing\n",
        "\n",
        "(X_train,y_train),(X_test,y_test) = boston_housing.load_data()"
      ],
      "execution_count": 1,
      "outputs": [
        {
          "output_type": "stream",
          "text": [
            "Using TensorFlow backend.\n"
          ],
          "name": "stderr"
        },
        {
          "output_type": "stream",
          "text": [
            "Downloading data from https://s3.amazonaws.com/keras-datasets/boston_housing.npz\n",
            "57344/57026 [==============================] - 0s 0us/step\n"
          ],
          "name": "stdout"
        }
      ]
    },
    {
      "cell_type": "code",
      "metadata": {
        "id": "5DM75nRPX3mQ",
        "colab_type": "code",
        "colab": {
          "base_uri": "https://localhost:8080/",
          "height": 51
        },
        "outputId": "013bbb55-2182-4a0e-eee1-4be62813cb02"
      },
      "source": [
        "print(X_train.shape)\n",
        "print(X_test.shape)\n"
      ],
      "execution_count": 2,
      "outputs": [
        {
          "output_type": "stream",
          "text": [
            "(404, 13)\n",
            "(102, 13)\n"
          ],
          "name": "stdout"
        }
      ]
    },
    {
      "cell_type": "code",
      "metadata": {
        "id": "RjXWUeZzYJaK",
        "colab_type": "code",
        "colab": {}
      },
      "source": [
        "#Normalizing Data\n",
        "\n",
        "from sklearn.preprocessing import StandardScaler\n",
        "scaler = StandardScaler()\n",
        "\n",
        "X_train_normalized= scaler.fit_transform(X_train)\n",
        "\n",
        "X_test_normalized = scaler.transform(X_test)\n"
      ],
      "execution_count": 0,
      "outputs": []
    },
    {
      "cell_type": "code",
      "metadata": {
        "id": "v1F511YzZXVu",
        "colab_type": "code",
        "colab": {
          "base_uri": "https://localhost:8080/",
          "height": 68
        },
        "outputId": "99a63fe3-fb0a-40ff-c702-fa48c46a7597"
      },
      "source": [
        "X_train_normalized[1]"
      ],
      "execution_count": 4,
      "outputs": [
        {
          "output_type": "execute_result",
          "data": {
            "text/plain": [
              "array([-0.40342651,  2.99178419, -1.33391162, -0.25683275, -1.21518188,\n",
              "        1.89434613, -1.91036058,  1.24758524, -0.85646254, -0.34843254,\n",
              "       -1.71818909,  0.43190599, -1.32920239])"
            ]
          },
          "metadata": {
            "tags": []
          },
          "execution_count": 4
        }
      ]
    },
    {
      "cell_type": "code",
      "metadata": {
        "id": "cqqrf7jyZmxu",
        "colab_type": "code",
        "colab": {
          "base_uri": "https://localhost:8080/",
          "height": 286
        },
        "outputId": "fc807533-305d-4dc1-9292-5e350439a485"
      },
      "source": [
        "import seaborn as sns\n",
        "import matplotlib.pyplot as plt\n",
        "import numpy as np\n",
        "import pandas as pd\n",
        "import seaborn as sns\n",
        "import matplotlib.pyplot as plt\n",
        "from scipy import stats\n",
        "\n",
        "sns.distplot(X_train_normalized[1])"
      ],
      "execution_count": 5,
      "outputs": [
        {
          "output_type": "execute_result",
          "data": {
            "text/plain": [
              "<matplotlib.axes._subplots.AxesSubplot at 0x7fdc00ae47f0>"
            ]
          },
          "metadata": {
            "tags": []
          },
          "execution_count": 5
        },
        {
          "output_type": "display_data",
          "data": {
            "image/png": "[encoded data removed]",
            "text/plain": [
              "<Figure size 432x288 with 1 Axes>"
            ]
          },
          "metadata": {
            "tags": []
          }
        }
      ]
    },
    {
      "cell_type": "code",
      "metadata": {
        "id": "CUYjyDBisxhy",
        "colab_type": "code",
        "colab": {
          "base_uri": "https://localhost:8080/",
          "height": 34
        },
        "outputId": "982bf7b6-4c9f-481d-a132-ef77bc1cf86d"
      },
      "source": [
        "X_train_normalized.shape[1]"
      ],
      "execution_count": 6,
      "outputs": [
        {
          "output_type": "execute_result",
          "data": {
            "text/plain": [
              "13"
            ]
          },
          "metadata": {
            "tags": []
          },
          "execution_count": 6
        }
      ]
    },
    {
      "cell_type": "code",
      "metadata": {
        "id": "SFh4dO7fr_J3",
        "colab_type": "code",
        "colab": {}
      },
      "source": [
        "from keras import models\n",
        "from keras import layers\n",
        "\n",
        "def build_model():\n",
        "  model = models.Sequential()\n",
        "  model.add(layers.Dense(64,activation=\"relu\",\n",
        "                        input_shape=(X_train_normalized.shape[1],)))\n",
        "  model.add(layers.Dense(64,activation=\"relu\"))\n",
        "  model.add(layers.Dense(1))\n",
        "  model.compile(optimizer= \"rmsprop\", loss= \"mse\", metrics = [\"mae\"])\n",
        "  return model\n"
      ],
      "execution_count": 0,
      "outputs": []
    },
    {
      "cell_type": "code",
      "metadata": {
        "id": "NmYd4u_7tP1o",
        "colab_type": "code",
        "colab": {
          "base_uri": "https://localhost:8080/",
          "height": 153
        },
        "outputId": "7bbf9f56-552c-43cd-eedb-6d4ea1b2911c"
      },
      "source": [
        "###CROSS VALALIDATION\n",
        "\n",
        "import numpy as np\n",
        "\n",
        "k=4\n",
        "num_val_samples= len(X_train_normalized) // k\n",
        "num_epochs = 100\n",
        "all_mae_histories=[]\n",
        "\n",
        "for i in range(k):\n",
        "  print('processing fold #',i)\n",
        "  \n",
        "  val_data = X_train_normalized[i * num_val_samples : (i+1) * num_val_samples]\n",
        "  \n",
        "  val_targets = y_train[i * num_val_samples : (i+1) * num_val_samples]\n",
        "  \n",
        "  partial_train_data = np.concatenate([X_train_normalized[:i * num_val_samples],\n",
        "                                     X_train_normalized[(i+1) * num_val_samples:]],\n",
        "                                      axis=0)\n",
        "  partial_train_targets = np.concatenate([y_train[:i * num_val_samples],\n",
        "                                     y_train[(i+1) * num_val_samples:]],\n",
        "                                     axis=0)\n",
        "  \n",
        "  model=build_model()\n",
        "  \n",
        "  history=model.fit(partial_train_data,\n",
        "            partial_train_targets,\n",
        "            epochs=num_epochs,\n",
        "            batch_size=1,\n",
        "            verbose=0,\n",
        "            validation_data= (val_data,val_targets))\n",
        "  \n",
        "  print(history.history.keys())\n",
        "  \n",
        "  mae_history= history.history[\"val_mean_absolute_error\"]\n",
        "  all_mae_histories.append(mae_history)"
      ],
      "execution_count": 33,
      "outputs": [
        {
          "output_type": "stream",
          "text": [
            "processing fold # 0\n",
            "dict_keys(['val_loss', 'val_mean_absolute_error', 'loss', 'mean_absolute_error'])\n",
            "processing fold # 1\n",
            "dict_keys(['val_loss', 'val_mean_absolute_error', 'loss', 'mean_absolute_error'])\n",
            "processing fold # 2\n",
            "dict_keys(['val_loss', 'val_mean_absolute_error', 'loss', 'mean_absolute_error'])\n",
            "processing fold # 3\n",
            "dict_keys(['val_loss', 'val_mean_absolute_error', 'loss', 'mean_absolute_error'])\n"
          ],
          "name": "stdout"
        }
      ]
    },
    {
      "cell_type": "code",
      "metadata": {
        "id": "JYWmC9Nx1P4W",
        "colab_type": "code",
        "colab": {}
      },
      "source": [
        "average_mae_history = [np.mean([x[i] for x in all_mae_histories]) for i in range(num_epochs)]"
      ],
      "execution_count": 0,
      "outputs": []
    },
    {
      "cell_type": "code",
      "metadata": {
        "id": "mtJyUP5O2YlV",
        "colab_type": "code",
        "colab": {
          "base_uri": "https://localhost:8080/",
          "height": 269
        },
        "outputId": "c80960a7-2c7b-49e7-a611-ddaae23f2cb6"
      },
      "source": [
        "import matplotlib.pyplot as plt\n",
        "\n",
        "plt.plot(range(1,len(average_mae_history) +1),average_mae_history)\n",
        "plt.xlabel=(\"Epochs\")\n",
        "plt.xlabel=(\"Validation MAE\")\n",
        "plt.show()"
      ],
      "execution_count": 35,
      "outputs": [
        {
          "output_type": "display_data",
          "data": {
            "image/png": "[encoded data removed]",
            "text/plain": [
              "<Figure size 432x288 with 1 Axes>"
            ]
          },
          "metadata": {
            "tags": []
          }
        }
      ]
    },
    {
      "cell_type": "code",
      "metadata": {
        "id": "bRufpgBs3ARC",
        "colab_type": "code",
        "colab": {
          "base_uri": "https://localhost:8080/",
          "height": 2754
        },
        "outputId": "b33ec2cf-b32d-4dae-b636-f8b58b969ab1"
      },
      "source": [
        "model=build_model()\n",
        "  \n",
        "model.fit(X_train_normalized,\n",
        "          y_train,\n",
        "          epochs=80, # THe optimized value\n",
        "          batch_size=16)\n",
        "\n",
        "test_mse_score, test_mae_score = model.evaluate(X_test_normalized,y_test)"
      ],
      "execution_count": 46,
      "outputs": [
        {
          "output_type": "stream",
          "text": [
            "Epoch 1/80\n",
            "404/404 [==============================] - 2s 5ms/step - loss: 517.6002 - mean_absolute_error: 20.7710\n",
            "Epoch 2/80\n",
            "404/404 [==============================] - 0s 258us/step - loss: 364.2758 - mean_absolute_error: 16.8576\n",
            "Epoch 3/80\n",
            "404/404 [==============================] - 0s 247us/step - loss: 197.0077 - mean_absolute_error: 11.6874\n",
            "Epoch 4/80\n",
            "404/404 [==============================] - 0s 227us/step - loss: 95.3732 - mean_absolute_error: 7.5896\n",
            "Epoch 5/80\n",
            "404/404 [==============================] - 0s 242us/step - loss: 52.4514 - mean_absolute_error: 5.5801\n",
            "Epoch 6/80\n",
            "404/404 [==============================] - 0s 264us/step - loss: 33.7528 - mean_absolute_error: 4.2910\n",
            "Epoch 7/80\n",
            "404/404 [==============================] - 0s 256us/step - loss: 25.9566 - mean_absolute_error: 3.6745\n",
            "Epoch 8/80\n",
            "404/404 [==============================] - 0s 275us/step - loss: 22.3528 - mean_absolute_error: 3.3090\n",
            "Epoch 9/80\n",
            "404/404 [==============================] - 0s 263us/step - loss: 20.0267 - mean_absolute_error: 3.1157\n",
            "Epoch 10/80\n",
            "404/404 [==============================] - 0s 329us/step - loss: 17.9546 - mean_absolute_error: 2.9348\n",
            "Epoch 11/80\n",
            "404/404 [==============================] - 0s 252us/step - loss: 16.5812 - mean_absolute_error: 2.8571\n",
            "Epoch 12/80\n",
            "404/404 [==============================] - 0s 278us/step - loss: 15.4178 - mean_absolute_error: 2.7353\n",
            "Epoch 13/80\n",
            "404/404 [==============================] - 0s 253us/step - loss: 14.6091 - mean_absolute_error: 2.6468\n",
            "Epoch 14/80\n",
            "404/404 [==============================] - 0s 257us/step - loss: 13.7033 - mean_absolute_error: 2.5804\n",
            "Epoch 15/80\n",
            "404/404 [==============================] - 0s 259us/step - loss: 12.9862 - mean_absolute_error: 2.5092\n",
            "Epoch 16/80\n",
            "404/404 [==============================] - 0s 255us/step - loss: 12.5165 - mean_absolute_error: 2.4702\n",
            "Epoch 17/80\n",
            "404/404 [==============================] - 0s 262us/step - loss: 11.7787 - mean_absolute_error: 2.4294\n",
            "Epoch 18/80\n",
            "404/404 [==============================] - 0s 255us/step - loss: 11.3092 - mean_absolute_error: 2.3523\n",
            "Epoch 19/80\n",
            "404/404 [==============================] - 0s 266us/step - loss: 11.2075 - mean_absolute_error: 2.3829\n",
            "Epoch 20/80\n",
            "404/404 [==============================] - 0s 308us/step - loss: 10.8433 - mean_absolute_error: 2.3164\n",
            "Epoch 21/80\n",
            "404/404 [==============================] - 0s 261us/step - loss: 10.1644 - mean_absolute_error: 2.2253\n",
            "Epoch 22/80\n",
            "404/404 [==============================] - 0s 251us/step - loss: 10.2019 - mean_absolute_error: 2.2871\n",
            "Epoch 23/80\n",
            "404/404 [==============================] - 0s 278us/step - loss: 10.0768 - mean_absolute_error: 2.2264\n",
            "Epoch 24/80\n",
            "404/404 [==============================] - 0s 265us/step - loss: 9.8559 - mean_absolute_error: 2.2269\n",
            "Epoch 25/80\n",
            "404/404 [==============================] - 0s 255us/step - loss: 9.5579 - mean_absolute_error: 2.1674\n",
            "Epoch 26/80\n",
            "404/404 [==============================] - 0s 249us/step - loss: 9.5273 - mean_absolute_error: 2.1701\n",
            "Epoch 27/80\n",
            "404/404 [==============================] - 0s 322us/step - loss: 9.3269 - mean_absolute_error: 2.1678\n",
            "Epoch 28/80\n",
            "404/404 [==============================] - 0s 271us/step - loss: 9.0346 - mean_absolute_error: 2.1218\n",
            "Epoch 29/80\n",
            "404/404 [==============================] - 0s 307us/step - loss: 9.1207 - mean_absolute_error: 2.1455\n",
            "Epoch 30/80\n",
            "404/404 [==============================] - 0s 258us/step - loss: 8.9464 - mean_absolute_error: 2.1031\n",
            "Epoch 31/80\n",
            "404/404 [==============================] - 0s 260us/step - loss: 8.6516 - mean_absolute_error: 2.0748\n",
            "Epoch 32/80\n",
            "404/404 [==============================] - 0s 256us/step - loss: 8.7077 - mean_absolute_error: 2.1038\n",
            "Epoch 33/80\n",
            "404/404 [==============================] - 0s 268us/step - loss: 8.5227 - mean_absolute_error: 2.0527\n",
            "Epoch 34/80\n",
            "404/404 [==============================] - 0s 258us/step - loss: 8.3471 - mean_absolute_error: 2.0602\n",
            "Epoch 35/80\n",
            "404/404 [==============================] - 0s 266us/step - loss: 8.4461 - mean_absolute_error: 2.0567\n",
            "Epoch 36/80\n",
            "404/404 [==============================] - 0s 264us/step - loss: 8.2614 - mean_absolute_error: 2.0434\n",
            "Epoch 37/80\n",
            "404/404 [==============================] - 0s 262us/step - loss: 8.2019 - mean_absolute_error: 1.9979\n",
            "Epoch 38/80\n",
            "404/404 [==============================] - 0s 311us/step - loss: 7.9391 - mean_absolute_error: 1.9590\n",
            "Epoch 39/80\n",
            "404/404 [==============================] - 0s 248us/step - loss: 7.9390 - mean_absolute_error: 1.9622\n",
            "Epoch 40/80\n",
            "404/404 [==============================] - 0s 255us/step - loss: 7.7358 - mean_absolute_error: 1.9612\n",
            "Epoch 41/80\n",
            "404/404 [==============================] - 0s 256us/step - loss: 7.8541 - mean_absolute_error: 1.9665\n",
            "Epoch 42/80\n",
            "404/404 [==============================] - 0s 255us/step - loss: 7.7388 - mean_absolute_error: 1.9910\n",
            "Epoch 43/80\n",
            "404/404 [==============================] - 0s 256us/step - loss: 7.5930 - mean_absolute_error: 1.9299\n",
            "Epoch 44/80\n",
            "404/404 [==============================] - 0s 274us/step - loss: 7.6331 - mean_absolute_error: 1.9328\n",
            "Epoch 45/80\n",
            "404/404 [==============================] - 0s 261us/step - loss: 7.4098 - mean_absolute_error: 1.9020\n",
            "Epoch 46/80\n",
            "404/404 [==============================] - 0s 259us/step - loss: 7.4120 - mean_absolute_error: 1.9270\n",
            "Epoch 47/80\n",
            "404/404 [==============================] - 0s 266us/step - loss: 7.4008 - mean_absolute_error: 1.9262\n",
            "Epoch 48/80\n",
            "404/404 [==============================] - 0s 296us/step - loss: 7.2246 - mean_absolute_error: 1.8936\n",
            "Epoch 49/80\n",
            "404/404 [==============================] - 0s 255us/step - loss: 7.0694 - mean_absolute_error: 1.8714\n",
            "Epoch 50/80\n",
            "404/404 [==============================] - 0s 254us/step - loss: 6.9984 - mean_absolute_error: 1.8969\n",
            "Epoch 51/80\n",
            "404/404 [==============================] - 0s 270us/step - loss: 6.9719 - mean_absolute_error: 1.8433\n",
            "Epoch 52/80\n",
            "404/404 [==============================] - 0s 250us/step - loss: 7.0216 - mean_absolute_error: 1.8955\n",
            "Epoch 53/80\n",
            "404/404 [==============================] - 0s 292us/step - loss: 6.7817 - mean_absolute_error: 1.8206\n",
            "Epoch 54/80\n",
            "404/404 [==============================] - 0s 247us/step - loss: 6.7898 - mean_absolute_error: 1.8225\n",
            "Epoch 55/80\n",
            "404/404 [==============================] - 0s 272us/step - loss: 6.7926 - mean_absolute_error: 1.8482\n",
            "Epoch 56/80\n",
            "404/404 [==============================] - 0s 258us/step - loss: 6.7443 - mean_absolute_error: 1.8160\n",
            "Epoch 57/80\n",
            "404/404 [==============================] - 0s 298us/step - loss: 6.5987 - mean_absolute_error: 1.8206\n",
            "Epoch 58/80\n",
            "404/404 [==============================] - 0s 243us/step - loss: 6.6037 - mean_absolute_error: 1.8317\n",
            "Epoch 59/80\n",
            "404/404 [==============================] - 0s 263us/step - loss: 6.4341 - mean_absolute_error: 1.7786\n",
            "Epoch 60/80\n",
            "404/404 [==============================] - 0s 255us/step - loss: 6.3530 - mean_absolute_error: 1.7803\n",
            "Epoch 61/80\n",
            "404/404 [==============================] - 0s 251us/step - loss: 6.2058 - mean_absolute_error: 1.7805\n",
            "Epoch 62/80\n",
            "404/404 [==============================] - 0s 278us/step - loss: 6.3658 - mean_absolute_error: 1.7641\n",
            "Epoch 63/80\n",
            "404/404 [==============================] - 0s 244us/step - loss: 6.1939 - mean_absolute_error: 1.7605\n",
            "Epoch 64/80\n",
            "404/404 [==============================] - 0s 268us/step - loss: 6.2599 - mean_absolute_error: 1.7373\n",
            "Epoch 65/80\n",
            "404/404 [==============================] - 0s 257us/step - loss: 6.1046 - mean_absolute_error: 1.7705\n",
            "Epoch 66/80\n",
            "404/404 [==============================] - 0s 260us/step - loss: 6.2019 - mean_absolute_error: 1.7606\n",
            "Epoch 67/80\n",
            "404/404 [==============================] - 0s 318us/step - loss: 5.9767 - mean_absolute_error: 1.7113\n",
            "Epoch 68/80\n",
            "404/404 [==============================] - 0s 251us/step - loss: 5.9344 - mean_absolute_error: 1.7282\n",
            "Epoch 69/80\n",
            "404/404 [==============================] - 0s 257us/step - loss: 5.8885 - mean_absolute_error: 1.7188\n",
            "Epoch 70/80\n",
            "404/404 [==============================] - 0s 251us/step - loss: 5.7018 - mean_absolute_error: 1.6689\n",
            "Epoch 71/80\n",
            "404/404 [==============================] - 0s 251us/step - loss: 5.6094 - mean_absolute_error: 1.6917\n",
            "Epoch 72/80\n",
            "404/404 [==============================] - 0s 257us/step - loss: 5.8948 - mean_absolute_error: 1.7154\n",
            "Epoch 73/80\n",
            "404/404 [==============================] - 0s 258us/step - loss: 5.8315 - mean_absolute_error: 1.6915\n",
            "Epoch 74/80\n",
            "404/404 [==============================] - 0s 259us/step - loss: 5.6462 - mean_absolute_error: 1.6857\n",
            "Epoch 75/80\n",
            "404/404 [==============================] - 0s 255us/step - loss: 5.6825 - mean_absolute_error: 1.6713\n",
            "Epoch 76/80\n",
            "404/404 [==============================] - 0s 296us/step - loss: 5.5820 - mean_absolute_error: 1.6390\n",
            "Epoch 77/80\n",
            "404/404 [==============================] - 0s 260us/step - loss: 5.5483 - mean_absolute_error: 1.6611\n",
            "Epoch 78/80\n",
            "404/404 [==============================] - 0s 257us/step - loss: 5.4714 - mean_absolute_error: 1.6639\n",
            "Epoch 79/80\n",
            "404/404 [==============================] - 0s 272us/step - loss: 5.5369 - mean_absolute_error: 1.6590\n",
            "Epoch 80/80\n",
            "404/404 [==============================] - 0s 258us/step - loss: 5.4221 - mean_absolute_error: 1.6340\n",
            "102/102 [==============================] - 1s 8ms/step\n"
          ],
          "name": "stdout"
        }
      ]
    },
    {
      "cell_type": "code",
      "metadata": {
        "id": "Neu1ovYX3oH_",
        "colab_type": "code",
        "colab": {
          "base_uri": "https://localhost:8080/",
          "height": 34
        },
        "outputId": "af2e84cb-f547-4e80-b66a-da3c7f82fe86"
      },
      "source": [
        "test_mae_score # OFF by about 2560 dollars"
      ],
      "execution_count": 47,
      "outputs": [
        {
          "output_type": "execute_result",
          "data": {
            "text/plain": [
              "2.5644297225802553"
            ]
          },
          "metadata": {
            "tags": []
          },
          "execution_count": 47
        }
      ]
    },
    {
      "cell_type": "code",
      "metadata": {
        "id": "iZgAQSw134iq",
        "colab_type": "code",
        "colab": {
          "base_uri": "https://localhost:8080/",
          "height": 34
        },
        "outputId": "17e4b0c1-574e-4f4f-8452-26d4da081f34"
      },
      "source": [
        "import math  \n",
        "math.sqrt(test_mse_score)"
      ],
      "execution_count": 54,
      "outputs": [
        {
          "output_type": "execute_result",
          "data": {
            "text/plain": [
              "4.014114441528051"
            ]
          },
          "metadata": {
            "tags": []
          },
          "execution_count": 54
        }
      ]
    },
    {
      "cell_type": "code",
      "metadata": {
        "id": "kcEtYWSI5MT_",
        "colab_type": "code",
        "colab": {}
      },
      "source": [
        "#RMSE gives a relatively high weight to large errors. This means the RMSE should be more useful when large errors are particularly undesirable."
      ],
      "execution_count": 0,
      "outputs": []
    },
    {
      "cell_type": "code",
      "metadata": {
        "id": "E_QmyeHw53q5",
        "colab_type": "code",
        "colab": {}
      },
      "source": [
        ""
      ],
      "execution_count": 0,
      "outputs": []
    }
  ]
}